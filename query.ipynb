{
 "cells": [
  {
   "cell_type": "code",
   "execution_count": 1,
   "metadata": {},
   "outputs": [],
   "source": [
    "import requests\n",
    "import json\n",
    "import numpy as np\n",
    "import urllib.parse"
   ]
  },
  {
   "attachments": {},
   "cell_type": "markdown",
   "metadata": {},
   "source": [
    "## 1.   eNanoMapper API\n",
    "There are 9 datasets, but not all open.\n",
    "* calibrate \n",
    "* enanomapper \n",
    "* enpra \n",
    "* marina \n",
    "* nanogenotox \n",
    "* nanoinformatix \n",
    "* nanoreg1 \n",
    "* nanoreg2 \n",
    "* nanotest\n",
    "\n",
    "# 1.1   Materials"
   ]
  },
  {
   "cell_type": "code",
   "execution_count": 2,
   "metadata": {},
   "outputs": [],
   "source": [
    "def retrieve_mappings(db, query):\n",
    "    # Get substances\n",
    "    url = f\"https://api.ideaconsult.net/{db}/select?rows=99999&q=\"\n",
    "    q = url+f\"{query}\"\n",
    "    try:\n",
    "        r = requests.get(q)\n",
    "        substances = {i[\"name_hs\"]:i[\"substanceType_hs\"]  for i in r.json()[\"response\"][\"docs\"] if \"name_hs\" in i.keys() if \"substanceType_hs\" in i.keys()}\n",
    "        stats = len(substances)\n",
    "        print(f\"database: {db} mappings retrieved, unique matches: {stats}\")\n",
    "        return(substances)\n",
    "    except:\n",
    "        print(f\"Exception for database: {db} {r}\")\n",
    "\n",
    "    "
   ]
  },
  {
   "cell_type": "code",
   "execution_count": 3,
   "metadata": {},
   "outputs": [
    {
     "name": "stdout",
     "output_type": "stream",
     "text": [
      "database: calibrate mappings retrieved, unique matches: 15\n",
      "database: enanomapper mappings retrieved, unique matches: 917\n",
      "Exception for database: enpra <Response [404]>\n",
      "Exception for database: marina <Response [404]>\n",
      "Exception for database: nanogenotox <Response [404]>\n",
      "Exception for database: nanoinformatix <Response [401]>\n",
      "database: nanoreg1 mappings retrieved, unique matches: 101\n",
      "database: nanoreg2 mappings retrieved, unique matches: 327\n",
      "Exception for database: nanotest <Response [404]>\n"
     ]
    }
   ],
   "source": [
    "databases = [\"calibrate\", \"enanomapper\", \"enpra\", \"marina\", \"nanogenotox\", \"nanoinformatix\", \"nanoreg1\", \"nanoreg2\", \"nanotest\"]\n",
    "material_mappings = {}\n",
    "for db in databases:\n",
    "    data[db] = retrieve_mappings(db, \"substance\")\n",
    "    \n"
   ]
  }
 ],
 "metadata": {
  "kernelspec": {
   "display_name": "Python 3",
   "language": "python",
   "name": "python3"
  },
  "language_info": {
   "codemirror_mode": {
    "name": "ipython",
    "version": 3
   },
   "file_extension": ".py",
   "mimetype": "text/x-python",
   "name": "python",
   "nbconvert_exporter": "python",
   "pygments_lexer": "ipython3",
   "version": "3.10.6"
  },
  "orig_nbformat": 4,
  "vscode": {
   "interpreter": {
    "hash": "916dbcbb3f70747c44a77c7bcd40155683ae19c65e1c03b4aa3499c5328201f1"
   }
  }
 },
 "nbformat": 4,
 "nbformat_minor": 2
}
